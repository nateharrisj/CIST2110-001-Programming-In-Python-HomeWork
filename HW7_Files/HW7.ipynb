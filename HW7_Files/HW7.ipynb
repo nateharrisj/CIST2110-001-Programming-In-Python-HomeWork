{
 "cells": [
  {
   "cell_type": "markdown",
   "metadata": {},
   "source": [
    "# HW7\n",
    "\n",
    "Name:"
   ]
  },
  {
   "cell_type": "code",
   "execution_count": 24,
   "metadata": {},
   "outputs": [],
   "source": [
    "# inside of the HW7_Files folder there is a text file called Dracula.txt that we will be using for this assignment\n",
    "\n",
    "# read in the Dracula.txt file and store it in a variable called dracula_text\n",
    "# Note the file is utf-8 encoded\n",
    "\n",
    "with open('Dracula.txt', encoding='utf-8') as drac:\n",
    "    dracula_text = drac.read()\n"
   ]
  },
  {
   "cell_type": "code",
   "execution_count": 25,
   "metadata": {},
   "outputs": [],
   "source": [
    "# Create a method that will get the text inbetween the Gutenberg and START OF THIS PROJECT GUTENBERG EBOOK DRACULA lines. Name the method get_text(text) and have it return the text inbetween the two lines.\n",
    "# You can look for the following 2 strings:\n",
    "# *** START OF THE PROJECT GUTENBERG EBOOK DRACULA ***\n",
    "# *** END OF THE PROJECT GUTENBERG EBOOK DRACULA ***\n",
    "# Update the variable called dracula_text that is the result of calling the get_text method on the dracula_text variable\n",
    "\n",
    "def get_text(text):\n",
    "    start = text.find('*** START OF THE PROJECT GUTENBERG EBOOK DRACULA ***')\n",
    "    #start = text.find('JONATHAN HARKER’S JOURNAL')\n",
    "    end = text.find('*** END OF THE PROJECT GUTENBERG EBOOK DRACULA ***')\n",
    "    return text[start:end]\n",
    "\n",
    "updated_text = get_text(dracula_text)"
   ]
  },
  {
   "cell_type": "code",
   "execution_count": 26,
   "metadata": {},
   "outputs": [],
   "source": [
    "# Clean the text by removing all punctuation and numbers. You can use the replace method to do this. Replace all punctuation and numbers with an empty string.\n",
    "\n",
    "words = updated_text.split()\n",
    "words_cleaned = updated_text.replace('.', '').replace(',', '').replace('?', '').replace('!', '').replace(';', '').replace(':', '').replace('\"', '').replace('\"', '').replace(\"'\", '').replace('-', '').replace('_', '').replace('<','').replace('>', '').replace('(', '').replace(')','').replace('1', '').replace('2', '').replace('3', '').replace('4', '').replace('5', '').replace('6', '').replace('7', '').replace('8', '').replace('9', '').replace('0', '')  "
   ]
  },
  {
   "cell_type": "code",
   "execution_count": 70,
   "metadata": {},
   "outputs": [
    {
     "name": "stdout",
     "output_type": "stream",
     "text": [
      "818101\n",
      "77\n",
      "18\n",
      "CHAPTER V Letters—Lucy and Mina\n",
      "\n",
      "18146\n"
     ]
    }
   ],
   "source": [
    "# Answer the following questions using python code:\n",
    "# 1. What is the total number of words in the text?\n",
    "\n",
    "print(len(words_cleaned))\n",
    "\n",
    "# 2. What is the total number of unique words in the text?\n",
    "\n",
    "unique_words = set(words_cleaned)\n",
    "print(len(unique_words))\n",
    "#print(len(set(words_cleaned)))\n",
    "\n",
    "# 3. How many times is the word 'vampire' used in the text?\n",
    "\n",
    "print(words_cleaned.count('vampire'))\n",
    "\n",
    "# 4. What is the name of Chapter 5?\n",
    "# Note in the text chapters are in roman numerals (5 is V)\n",
    "# Hint: you can use the find method to find the index of the string 'CHAPTER V'\n",
    "# Then you can use slicing to get the text for the chapter name\n",
    "\n",
    "print(words_cleaned[words_cleaned.find('CHAPTER V'):words_cleaned.find('CHAPTER VI')])\n",
    "\n",
    "\n",
    "# 5. What is the total number of words in Chapter 5?\n",
    "# Hints:\n",
    "# To get just the text for chapter 5 you can use slicing between the start and end of chapter 5\n",
    "# To find the start of chapter 5 you can use the find method to find the index of the string 'CHAPTER V'\n",
    "# To find the end of chapter 5 you can use the find method to find the index of the string 'CHAPTER VI'\n",
    "# Then you can use slicing to get the text inbetween the start and end of chapter 5\n",
    "# IE find 'CHAPTER V' : find 'CHAPTER VI'\n",
    "# Then find the length of the text for the result of the slicing\n",
    "\n",
    "def chapter_5(text):\n",
    "    start = text.find('_Letter from Miss Mina Murray to Miss Lucy Westenra._')\n",
    "    end = text.find('*** END OF THE PROJECT GUTENBERG EBOOK DRACULA ***')\n",
    "    return text[start:end]\n",
    "\n",
    "chapter_5_text = chapter_5(dracula_text)\n",
    "\n",
    "print(len(chapter_5_text[chapter_5_text.find('_Letter from Miss Mina Murray to Miss Lucy Westenra._'):chapter_5_text.find('CHAPTER VI')]))\n",
    "\n",
    "\n"
   ]
  }
 ],
 "metadata": {
  "kernelspec": {
   "display_name": "venv",
   "language": "python",
   "name": "python3"
  },
  "language_info": {
   "codemirror_mode": {
    "name": "ipython",
    "version": 3
   },
   "file_extension": ".py",
   "mimetype": "text/x-python",
   "name": "python",
   "nbconvert_exporter": "python",
   "pygments_lexer": "ipython3",
   "version": "3.11.6"
  }
 },
 "nbformat": 4,
 "nbformat_minor": 2
}
